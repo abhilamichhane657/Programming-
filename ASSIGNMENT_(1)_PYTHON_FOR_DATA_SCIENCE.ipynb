{
  "nbformat": 4,
  "nbformat_minor": 0,
  "metadata": {
    "colab": {
      "provenance": [],
      "authorship_tag": "ABX9TyPIBuf090D6l+1VOhRpOqcN",
      "include_colab_link": true
    },
    "kernelspec": {
      "name": "python3",
      "display_name": "Python 3"
    },
    "language_info": {
      "name": "python"
    }
  },
  "cells": [
    {
      "cell_type": "markdown",
      "metadata": {
        "id": "view-in-github",
        "colab_type": "text"
      },
      "source": [
        "<a href=\"https://colab.research.google.com/github/abhilamichhane657/Programming-/blob/main/ASSIGNMENT_(1)_PYTHON_FOR_DATA_SCIENCE.ipynb\" target=\"_parent\"><img src=\"https://colab.research.google.com/assets/colab-badge.svg\" alt=\"Open In Colab\"/></a>"
      ]
    },
    {
      "cell_type": "code",
      "source": [
        "#QUESTION NO.1 SOLUTION"
      ],
      "metadata": {
        "id": "ucxnpzKR3GSv"
      },
      "execution_count": null,
      "outputs": []
    },
    {
      "cell_type": "code",
      "execution_count": 1,
      "metadata": {
        "colab": {
          "base_uri": "https://localhost:8080/"
        },
        "id": "FxwcaaKX2BCk",
        "outputId": "35cf6448-80dc-49dd-fba0-344f776b301b"
      },
      "outputs": [
        {
          "name": "stdout",
          "output_type": "stream",
          "text": [
            "Enter Your Name : Abhi\n"
          ]
        }
      ],
      "source": [
        "Name  = input(\"Enter Your Name : \")"
      ]
    },
    {
      "cell_type": "code",
      "source": [
        "Age   = input(\"Enter Your Age : \")"
      ],
      "metadata": {
        "colab": {
          "base_uri": "https://localhost:8080/"
        },
        "id": "apjgle8P2MCq",
        "outputId": "46866e65-c3cd-4c4a-9eca-fc413cd7aa88"
      },
      "execution_count": 2,
      "outputs": [
        {
          "name": "stdout",
          "output_type": "stream",
          "text": [
            "Enter Your Age : 22\n"
          ]
        }
      ]
    },
    {
      "cell_type": "code",
      "source": [
        "print(f\"My name is {Name} and I'm {Age} years old.\")"
      ],
      "metadata": {
        "colab": {
          "base_uri": "https://localhost:8080/"
        },
        "id": "M5uQWP_Z2Pr2",
        "outputId": "6858b195-0d85-487c-c226-3d441fe28298"
      },
      "execution_count": 4,
      "outputs": [
        {
          "output_type": "stream",
          "name": "stdout",
          "text": [
            "My name is Abhi and I'm 22 years old.\n"
          ]
        }
      ]
    },
    {
      "cell_type": "code",
      "source": [
        "#QUESTION NO.2 SOLUTION"
      ],
      "metadata": {
        "id": "EzGCcId03M02"
      },
      "execution_count": 5,
      "outputs": []
    },
    {
      "cell_type": "code",
      "source": [
        "fruit = \"apples\""
      ],
      "metadata": {
        "id": "kbP7HxkH3Q5-"
      },
      "execution_count": 10,
      "outputs": []
    },
    {
      "cell_type": "code",
      "source": [
        "quantity = int(input(\"Enter the value: \"))\n"
      ],
      "metadata": {
        "colab": {
          "base_uri": "https://localhost:8080/"
        },
        "id": "Xv8s6Gmm3vOm",
        "outputId": "b5b2da73-9db8-4343-8dcd-cdb15c936a42"
      },
      "execution_count": 7,
      "outputs": [
        {
          "name": "stdout",
          "output_type": "stream",
          "text": [
            "Enter the value: 10\n"
          ]
        }
      ]
    },
    {
      "cell_type": "code",
      "source": [
        "print(f\"I have {quantity} {fruit}.\")"
      ],
      "metadata": {
        "colab": {
          "base_uri": "https://localhost:8080/"
        },
        "id": "O60zY-Bg38-v",
        "outputId": "a1166131-c85c-47a5-f730-e271b4e6de47"
      },
      "execution_count": 13,
      "outputs": [
        {
          "output_type": "stream",
          "name": "stdout",
          "text": [
            "I have 10 apples.\n"
          ]
        }
      ]
    },
    {
      "cell_type": "code",
      "source": [
        "#QUESTION NO.3 SOLUTION"
      ],
      "metadata": {
        "id": "3wXIFtVr4-7L"
      },
      "execution_count": 14,
      "outputs": []
    },
    {
      "cell_type": "code",
      "source": [
        "day = int(input(\"Enter a day : \"))"
      ],
      "metadata": {
        "colab": {
          "base_uri": "https://localhost:8080/"
        },
        "id": "UYywa1oa5BEP",
        "outputId": "bb65ad4b-53d0-439e-89eb-a43307a7ac2a"
      },
      "execution_count": 17,
      "outputs": [
        {
          "name": "stdout",
          "output_type": "stream",
          "text": [
            "Enter a day : 11\n"
          ]
        }
      ]
    },
    {
      "cell_type": "code",
      "source": [
        "month = int(input(\"Enter a month : \"))"
      ],
      "metadata": {
        "colab": {
          "base_uri": "https://localhost:8080/"
        },
        "id": "VjT2BKcE5ZDz",
        "outputId": "cd2bdab5-cc19-4fde-c698-3ad9e0d07a4e"
      },
      "execution_count": 18,
      "outputs": [
        {
          "name": "stdout",
          "output_type": "stream",
          "text": [
            "Enter a month : 09\n"
          ]
        }
      ]
    },
    {
      "cell_type": "code",
      "source": [
        "year = int(input(\"Enter a year : \"))"
      ],
      "metadata": {
        "colab": {
          "base_uri": "https://localhost:8080/"
        },
        "id": "eklqV_ui5fjs",
        "outputId": "e551a86a-7749-4ade-ff55-38f0a68218c3"
      },
      "execution_count": 19,
      "outputs": [
        {
          "name": "stdout",
          "output_type": "stream",
          "text": [
            "Enter a year : 2023\n"
          ]
        }
      ]
    },
    {
      "cell_type": "code",
      "source": [
        "print(f\"Today Date is {day}-{month}-{year}\")"
      ],
      "metadata": {
        "colab": {
          "base_uri": "https://localhost:8080/"
        },
        "id": "pt1T7LcR5lWX",
        "outputId": "499429a5-c465-4686-8843-52dcb5a28efc"
      },
      "execution_count": 22,
      "outputs": [
        {
          "output_type": "stream",
          "name": "stdout",
          "text": [
            "Today Date is 11-9-2023\n"
          ]
        }
      ]
    },
    {
      "cell_type": "code",
      "source": [
        "#QUESTION NO.4 SOLUTION"
      ],
      "metadata": {
        "id": "ZwXNN01V6fN_"
      },
      "execution_count": 23,
      "outputs": []
    },
    {
      "cell_type": "code",
      "source": [
        "community = \"Python developers\""
      ],
      "metadata": {
        "id": "0_wnqa116iOD"
      },
      "execution_count": 26,
      "outputs": []
    },
    {
      "cell_type": "code",
      "source": [
        "population = 20000"
      ],
      "metadata": {
        "id": "4B1F6c-x6who"
      },
      "execution_count": 27,
      "outputs": []
    },
    {
      "cell_type": "code",
      "source": [
        "print(f\"There are {population} Python developers.\")"
      ],
      "metadata": {
        "colab": {
          "base_uri": "https://localhost:8080/"
        },
        "id": "izisFHGq6zfh",
        "outputId": "4673797b-a181-4a81-c095-bf69a9567928"
      },
      "execution_count": 29,
      "outputs": [
        {
          "output_type": "stream",
          "name": "stdout",
          "text": [
            "There are 20000 Python developers.\n"
          ]
        }
      ]
    },
    {
      "cell_type": "code",
      "source": [
        "#QUESTION NO.5 SOLUTION"
      ],
      "metadata": {
        "id": "dRgsmyWm7A-o"
      },
      "execution_count": 30,
      "outputs": []
    },
    {
      "cell_type": "code",
      "source": [
        "price = int(input(\"Enter a price: \"))\n",
        "item = int(input(\"Enter the Number of items : \"))"
      ],
      "metadata": {
        "colab": {
          "base_uri": "https://localhost:8080/"
        },
        "id": "3NP-fxhW7Cvi",
        "outputId": "09f8b3b5-c098-443e-e5e5-658eb609dc20"
      },
      "execution_count": 31,
      "outputs": [
        {
          "name": "stdout",
          "output_type": "stream",
          "text": [
            "Enter a price: 5000\n",
            "Enter the Number of items : 5\n"
          ]
        }
      ]
    },
    {
      "cell_type": "code",
      "source": [
        "print(f\"{item} items costs {price} dollars.\")"
      ],
      "metadata": {
        "colab": {
          "base_uri": "https://localhost:8080/"
        },
        "id": "MpcVFO4f7gFR",
        "outputId": "c8b3527c-3cc1-404a-9ca2-032c70bb15f0"
      },
      "execution_count": 36,
      "outputs": [
        {
          "output_type": "stream",
          "name": "stdout",
          "text": [
            "5 items costs 5000 dollars.\n"
          ]
        }
      ]
    },
    {
      "cell_type": "code",
      "source": [
        "#QUESTION NO.6 SOLUTION"
      ],
      "metadata": {
        "id": "buY_uT-l7umm"
      },
      "execution_count": 34,
      "outputs": []
    },
    {
      "cell_type": "code",
      "source": [
        "first_Name = input(\"Enter your first Name : \")\n",
        "last_Name = input(\"Enter your last Name : \")"
      ],
      "metadata": {
        "colab": {
          "base_uri": "https://localhost:8080/"
        },
        "id": "cEMP5QI27yLr",
        "outputId": "f320df1f-4e20-4622-b5a3-9902a2e619f3"
      },
      "execution_count": 37,
      "outputs": [
        {
          "name": "stdout",
          "output_type": "stream",
          "text": [
            "Enter your first Name : Abhi\n",
            "Enter your last Name : Lamichhane\n"
          ]
        }
      ]
    },
    {
      "cell_type": "code",
      "source": [
        "print(f\"{last_Name}, {first_Name}\")"
      ],
      "metadata": {
        "colab": {
          "base_uri": "https://localhost:8080/"
        },
        "id": "0wsNc4Ru8X8d",
        "outputId": "44289e0f-b54a-47e4-c7fa-6723cf3df845"
      },
      "execution_count": 39,
      "outputs": [
        {
          "output_type": "stream",
          "name": "stdout",
          "text": [
            "Lamichhane, Abhi\n"
          ]
        }
      ]
    },
    {
      "cell_type": "code",
      "source": [
        "#QUESTION NO.7 SOLUTION"
      ],
      "metadata": {
        "id": "j-YEO6Cq8lM2"
      },
      "execution_count": 40,
      "outputs": []
    },
    {
      "cell_type": "code",
      "source": [
        "length = 5\n",
        "width = 10"
      ],
      "metadata": {
        "id": "IaJAhPTM8nyQ"
      },
      "execution_count": 41,
      "outputs": []
    },
    {
      "cell_type": "code",
      "source": [
        "print(f\"The area of the rectangle is {length*width}\")"
      ],
      "metadata": {
        "colab": {
          "base_uri": "https://localhost:8080/"
        },
        "id": "h2jtPVrv805o",
        "outputId": "1d80131a-1964-41fd-fe85-918143ccf188"
      },
      "execution_count": 43,
      "outputs": [
        {
          "output_type": "stream",
          "name": "stdout",
          "text": [
            "The area of the rectangle is 50\n"
          ]
        }
      ]
    },
    {
      "cell_type": "code",
      "source": [
        "#QUESTION NO.8 SOLUTION"
      ],
      "metadata": {
        "id": "i9jXZYAa88LU"
      },
      "execution_count": 44,
      "outputs": []
    },
    {
      "cell_type": "code",
      "source": [
        "pi = 3.14159\n",
        "print(f\"Pi to two decimal places is {round(pi,2)}\")"
      ],
      "metadata": {
        "colab": {
          "base_uri": "https://localhost:8080/"
        },
        "id": "NLtJ0gxf8960",
        "outputId": "d91335b6-1eab-46c2-8e3b-76a83c9db558"
      },
      "execution_count": 47,
      "outputs": [
        {
          "output_type": "stream",
          "name": "stdout",
          "text": [
            "Pi to two decimal places is 3.14\n"
          ]
        }
      ]
    },
    {
      "cell_type": "code",
      "source": [
        "#QUESTION NO.9 SOLUTION"
      ],
      "metadata": {
        "id": "sLAJn--19nB8"
      },
      "execution_count": 48,
      "outputs": []
    },
    {
      "cell_type": "code",
      "source": [
        "pi = 3.14159\n",
        "radius = float(input(\"Enter the radius of a circle : \"))"
      ],
      "metadata": {
        "colab": {
          "base_uri": "https://localhost:8080/"
        },
        "id": "HcPKgN7W9pdb",
        "outputId": "e20fbfaf-669e-4cba-b62e-38efdd267325"
      },
      "execution_count": 51,
      "outputs": [
        {
          "name": "stdout",
          "output_type": "stream",
          "text": [
            "Enter the radius of a circle : 5.89\n"
          ]
        }
      ]
    },
    {
      "cell_type": "code",
      "source": [
        "print(f\"Circumference of a circle is {2*pi*radius}\")"
      ],
      "metadata": {
        "colab": {
          "base_uri": "https://localhost:8080/"
        },
        "id": "cP6PShok98pl",
        "outputId": "76edc405-b467-43eb-dfab-b9b14f228135"
      },
      "execution_count": 53,
      "outputs": [
        {
          "output_type": "stream",
          "name": "stdout",
          "text": [
            "Circumference of a circle is 37.0079302\n"
          ]
        }
      ]
    },
    {
      "cell_type": "code",
      "source": [
        "#QUESTION NO.10 SOLUTION"
      ],
      "metadata": {
        "id": "JZecbrQ8-aak"
      },
      "execution_count": 54,
      "outputs": []
    },
    {
      "cell_type": "code",
      "source": [
        "print(f\"10 times 5 equals to {10*5}.\")"
      ],
      "metadata": {
        "colab": {
          "base_uri": "https://localhost:8080/"
        },
        "id": "YCXqNmT2-cU5",
        "outputId": "567fd536-7607-49ce-efa9-f798a2ce33bd"
      },
      "execution_count": 55,
      "outputs": [
        {
          "output_type": "stream",
          "name": "stdout",
          "text": [
            "10 times 5 equals to 50.\n"
          ]
        }
      ]
    }
  ]
}